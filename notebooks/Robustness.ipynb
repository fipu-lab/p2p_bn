{
 "cells": [
  {
   "cell_type": "code",
   "execution_count": null,
   "id": "9ed18a85",
   "metadata": {},
   "outputs": [],
   "source": [
    "cd .."
   ]
  },
  {
   "cell_type": "markdown",
   "id": "9de6015e",
   "metadata": {},
   "source": [
    "### Gossip-pull method"
   ]
  },
  {
   "cell_type": "code",
   "execution_count": null,
   "id": "bf5bd6c6",
   "metadata": {},
   "outputs": [],
   "source": [
    "def train(mode, seed, graph_type device='GPU:0'):\n",
    "    from environ import set_visible_devices\n",
    "    set_visible_devices(device)\n",
    "    from p2p.train import do_train\n",
    "    from p2p.agents import GossipPullAgent\n",
    "    from data.mnist import clients_data\n",
    "    from models.mnist import model\n",
    "    \n",
    "    do_train(agent_pars={\"agent_class\": GossipPullAgent, 'use_tf_function': False},\n",
    "             agent_data_pars={\"agents_data\": clients_data, \"num_clients\": 100, \"batch_size\": 32, 'mode': mode},\n",
    "             model_pars={\"model_mod\": model, 'model_v': 1, 'lr': 1e-3},\n",
    "             graph_pars={'graph_type': graph_type, 'num_neighbors': 3 if graph_type == 'sparse' else 1, 'directed': True},\n",
    "             sim_pars={'epochs': 100, 'seed': seed})"
   ]
  },
  {
   "cell_type": "code",
   "execution_count": null,
   "id": "d38f026a",
   "metadata": {},
   "outputs": [],
   "source": [
    "train('IID', 111, 'ring')"
   ]
  },
  {
   "cell_type": "code",
   "execution_count": null,
   "id": "7f17557f",
   "metadata": {},
   "outputs": [],
   "source": [
    "train('practical non-IID', 111, 'ring')"
   ]
  },
  {
   "cell_type": "code",
   "execution_count": null,
   "id": "30da9330",
   "metadata": {},
   "outputs": [],
   "source": [
    "train('pathological non-IID', 111, 'ring')"
   ]
  },
  {
   "cell_type": "code",
   "execution_count": null,
   "id": "a76d0ae0",
   "metadata": {},
   "outputs": [],
   "source": [
    "train('IID', 111, 'sparse')"
   ]
  },
  {
   "cell_type": "code",
   "execution_count": null,
   "id": "74e1fc6a",
   "metadata": {},
   "outputs": [],
   "source": [
    "train('practical non-IID', 111, 'sparse')"
   ]
  },
  {
   "cell_type": "code",
   "execution_count": null,
   "id": "14764d27",
   "metadata": {},
   "outputs": [],
   "source": [
    "train('pathological non-IID', 111, 'sparse')"
   ]
  },
  {
   "cell_type": "markdown",
   "id": "61e4ff79",
   "metadata": {},
   "source": [
    "### Asynchrounous P2P-BN method"
   ]
  },
  {
   "cell_type": "code",
   "execution_count": null,
   "id": "92e6a88e",
   "metadata": {},
   "outputs": [],
   "source": [
    "def train(mode, seed, graph_type, device='GPU:0'):\n",
    "    from environ import set_visible_devices\n",
    "    set_visible_devices(device)\n",
    "    from p2p.train import do_train\n",
    "    from p2p.agents import P2PAgent\n",
    "    from data.mnist import clients_data\n",
    "    from models.mnist import model\n",
    "    \n",
    "    do_train(agent_pars={\"agent_class\": P2PAgent, 'use_tf_function': False},\n",
    "             agent_data_pars={\"agents_data\": clients_data, \"num_clients\": 100, \"batch_size\": 32, 'mode': mode},\n",
    "             model_pars={\"model_mod\": model, 'model_v': 1, 'lr': 1e-3},\n",
    "             graph_pars={'graph_type': graph_type, 'num_neighbors': 3 if graph_type == 'sparse' else 1, 'directed': True},\n",
    "             sim_pars={'epochs': 100, 'seed': seed})"
   ]
  },
  {
   "cell_type": "code",
   "execution_count": null,
   "id": "7168f456",
   "metadata": {},
   "outputs": [],
   "source": [
    "train('IID', 111, 'ring')"
   ]
  },
  {
   "cell_type": "code",
   "execution_count": null,
   "id": "4e8a0f1a",
   "metadata": {},
   "outputs": [],
   "source": [
    "train('practical non-IID', 111, 'ring')"
   ]
  },
  {
   "cell_type": "code",
   "execution_count": null,
   "id": "ee1baec0",
   "metadata": {},
   "outputs": [],
   "source": [
    "train('pathological non-IID', 111, 'ring')"
   ]
  },
  {
   "cell_type": "code",
   "execution_count": null,
   "id": "a79637a1",
   "metadata": {},
   "outputs": [],
   "source": [
    "train('IID', 111, 'sparse')"
   ]
  },
  {
   "cell_type": "code",
   "execution_count": null,
   "id": "694caeaf",
   "metadata": {},
   "outputs": [],
   "source": [
    "train('practical non-IID', 111, 'sparse')"
   ]
  },
  {
   "cell_type": "code",
   "execution_count": null,
   "id": "f45af8fa",
   "metadata": {},
   "outputs": [],
   "source": [
    "train('pathological non-IID', 111, 'sparse')"
   ]
  }
 ],
 "metadata": {
  "kernelspec": {
   "display_name": "Python [conda env:p2p_bn]",
   "language": "python",
   "name": "conda-env-p2p_bn-py"
  },
  "language_info": {
   "codemirror_mode": {
    "name": "ipython",
    "version": 3
   },
   "file_extension": ".py",
   "mimetype": "text/x-python",
   "name": "python",
   "nbconvert_exporter": "python",
   "pygments_lexer": "ipython3",
   "version": "3.8.12"
  }
 },
 "nbformat": 4,
 "nbformat_minor": 5
}
