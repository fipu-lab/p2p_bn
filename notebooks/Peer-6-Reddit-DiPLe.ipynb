{
 "cells": [
  {
   "cell_type": "code",
   "execution_count": null,
   "id": "dd8bd2ba",
   "metadata": {},
   "outputs": [],
   "source": [
    "cd .."
   ]
  },
  {
   "cell_type": "code",
   "execution_count": null,
   "id": "6f3c1ff4",
   "metadata": {},
   "outputs": [],
   "source": [
    "def train(data_pars, seed, device='GPU:0'):\n",
    "    from environ import set_visible_devices\n",
    "    set_visible_devices(device)\n",
    "    from p2p.train import do_train\n",
    "    from p2p.agents import DiPLeAgent\n",
    "    from data.reddit import subreddit_clients_data as clients_data\n",
    "    from models.nwp import model\n",
    "    \n",
    "    num_clients = 50 * len(data_pars['categories'])\n",
    "    a_pars = {\"agents_data\": clients_data, \"num_clients\": num_clients, \"batch_size\": 50, 'seed': seed}\n",
    "    a_pars.update(data_pars)\n",
    "    do_train(agent_pars={\"agent_class\": DiPLeAgent, 'use_tf_function': False},\n",
    "             agent_data_pars=a_pars,\n",
    "             model_pars={\"model_mod\": model, 'model_v': 4, 'lr': 5e-3},\n",
    "             graph_pars={'graph_type': 'sparse', 'num_neighbors': 3, 'directed': True},\n",
    "             sim_pars={'epochs': 1_000, 'seed': seed, 'print_args': {'group_by_dataset': True}})"
   ]
  },
  {
   "cell_type": "markdown",
   "id": "33c6611e",
   "metadata": {},
   "source": [
    "# 300-700 examples"
   ]
  },
  {
   "cell_type": "code",
   "execution_count": null,
   "id": "4f863378",
   "metadata": {},
   "outputs": [],
   "source": [
    "train({'categories':['leagueoflegends', 'politics'], 'train_examples_range': (300, 700)}, 123)"
   ]
  },
  {
   "cell_type": "code",
   "execution_count": null,
   "id": "de9c9525",
   "metadata": {},
   "outputs": [],
   "source": [
    "train({'categories':['leagueoflegends', 'nba'], 'train_examples_range': (300, 700)}, 123)"
   ]
  },
  {
   "cell_type": "code",
   "execution_count": null,
   "id": "6f9174f1",
   "metadata": {},
   "outputs": [],
   "source": [
    "train({'categories':['leagueoflegends', 'Bitcoin'], 'train_examples_range': (300, 700)}, 123)"
   ]
  },
  {
   "cell_type": "code",
   "execution_count": null,
   "id": "e2247119",
   "metadata": {},
   "outputs": [],
   "source": [
    "train({'categories':['politics', 'nba'], 'train_examples_range': (300, 700)}, 123)"
   ]
  },
  {
   "cell_type": "code",
   "execution_count": null,
   "id": "7d7cc3aa",
   "metadata": {},
   "outputs": [],
   "source": [
    "train({'categories':['politics', 'Bitcoin'], 'train_examples_range': (300, 700)}, 123)"
   ]
  },
  {
   "cell_type": "code",
   "execution_count": null,
   "id": "0bed7957",
   "metadata": {},
   "outputs": [],
   "source": [
    "train({'categories':['nba', 'Bitcoin'], 'train_examples_range': (300, 700)}, 123)"
   ]
  },
  {
   "cell_type": "code",
   "execution_count": null,
   "id": "b48ec433",
   "metadata": {},
   "outputs": [],
   "source": [
    "train({'categories':['leagueoflegends', 'politics', 'nba', 'Bitcoin'], 'train_examples_range': (300, 700)}, 123)"
   ]
  },
  {
   "cell_type": "markdown",
   "id": "2cd501e3",
   "metadata": {},
   "source": [
    "# 1000-5000 examples"
   ]
  },
  {
   "cell_type": "code",
   "execution_count": null,
   "id": "c08f54bc",
   "metadata": {
    "scrolled": true
   },
   "outputs": [],
   "source": [
    "train({'categories':['leagueoflegends', 'politics'], 'train_examples_range': (1_000, 5_000)}, 123)"
   ]
  },
  {
   "cell_type": "code",
   "execution_count": null,
   "id": "ace807e3",
   "metadata": {},
   "outputs": [],
   "source": [
    "train({'categories':['leagueoflegends', 'nba'], 'train_examples_range': (1_000, 5_000)}, 123)"
   ]
  },
  {
   "cell_type": "code",
   "execution_count": null,
   "id": "2b41f9db",
   "metadata": {},
   "outputs": [],
   "source": [
    "train({'categories':['leagueoflegends', 'Bitcoin'], 'train_examples_range': (1_000, 5_000)}, 123)"
   ]
  },
  {
   "cell_type": "code",
   "execution_count": null,
   "id": "a836b190",
   "metadata": {},
   "outputs": [],
   "source": [
    "train({'categories':['politics', 'nba'], 'train_examples_range': (1_000, 5_000)}, 123)"
   ]
  },
  {
   "cell_type": "code",
   "execution_count": null,
   "id": "a3c73e77",
   "metadata": {},
   "outputs": [],
   "source": [
    "train({'categories':['politics', 'Bitcoin'], 'train_examples_range': (1_000, 5_000)}, 123)"
   ]
  },
  {
   "cell_type": "code",
   "execution_count": null,
   "id": "5dfc3923",
   "metadata": {},
   "outputs": [],
   "source": [
    "train({'categories':['nba', 'Bitcoin'], 'train_examples_range': (1_000, 5_000)}, 123)"
   ]
  },
  {
   "cell_type": "code",
   "execution_count": null,
   "id": "2cdf2b20",
   "metadata": {},
   "outputs": [],
   "source": [
    "train({'categories':['leagueoflegends', 'politics', 'nba', 'Bitcoin'], 'train_examples_range': (1_000, 5_000)}, 123)"
   ]
  },
  {
   "cell_type": "code",
   "execution_count": null,
   "id": "027eb2c5",
   "metadata": {},
   "outputs": [],
   "source": []
  }
 ],
 "metadata": {
  "kernelspec": {
   "display_name": "Python [conda env:p2p_bn]",
   "language": "python",
   "name": "conda-env-p2p_bn-py"
  },
  "language_info": {
   "codemirror_mode": {
    "name": "ipython",
    "version": 3
   },
   "file_extension": ".py",
   "mimetype": "text/x-python",
   "name": "python",
   "nbconvert_exporter": "python",
   "pygments_lexer": "ipython3",
   "version": "3.8.12"
  }
 },
 "nbformat": 4,
 "nbformat_minor": 5
}
