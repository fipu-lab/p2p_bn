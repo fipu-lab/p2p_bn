{
 "cells": [
  {
   "cell_type": "code",
   "execution_count": null,
   "id": "dd8bd2ba",
   "metadata": {},
   "outputs": [],
   "source": [
    "cd .."
   ]
  },
  {
   "cell_type": "code",
   "execution_count": null,
   "id": "f218dbc9",
   "metadata": {},
   "outputs": [],
   "source": [
    "def train(data_pars, seed, device='GPU:1'):\n",
    "    from environ import set_visible_devices\n",
    "    set_visible_devices(device)\n",
    "    from p2p.train import do_train\n",
    "    from p2p.agents import DCliqueAgent\n",
    "    from data.cifar10 import clients_data\n",
    "    from models.cifar10 import model\n",
    "    \n",
    "    a_pars = {\"agents_data\": clients_data, \"num_clients\": 100, \"batch_size\": 32}\n",
    "    a_pars.update(data_pars)\n",
    "    do_train(agent_pars={\"agent_class\": DCliqueAgent, 'use_tf_function': False},\n",
    "             agent_data_pars=a_pars,\n",
    "             model_pars={\"model_mod\": model, 'model_v': 0, 'lr': 0.001},\n",
    "             graph_pars={'graph_type': 'd-cliques', 'num_neighbors': 3, 'directed': True},\n",
    "             sim_pars={'epochs': 1_000 if 'samples' in data_pars else 500,\n",
    "                       'seed': seed, 'print_args': {'group_by_dataset': True}})"
   ]
  },
  {
   "cell_type": "markdown",
   "id": "d7c677d0",
   "metadata": {},
   "source": [
    "# Rotations\n",
    "### 2 clusters"
   ]
  },
  {
   "cell_type": "code",
   "execution_count": null,
   "id": "2118a53f",
   "metadata": {},
   "outputs": [],
   "source": [
    "train({'rotations': [0, 180]}, 123)"
   ]
  },
  {
   "cell_type": "code",
   "execution_count": null,
   "id": "5fd2fc3a",
   "metadata": {},
   "outputs": [],
   "source": [
    "train({'rotations': [0, 180], 'samples': 100}, 123)"
   ]
  },
  {
   "cell_type": "markdown",
   "id": "85ad978e",
   "metadata": {},
   "source": [
    "### 4 clusters"
   ]
  },
  {
   "cell_type": "code",
   "execution_count": null,
   "id": "94ea369b",
   "metadata": {},
   "outputs": [],
   "source": [
    "train({'rotations': [0, 90, 180, 270], 'clusters': 4}, 123)"
   ]
  },
  {
   "cell_type": "code",
   "execution_count": null,
   "id": "4f336180",
   "metadata": {},
   "outputs": [],
   "source": [
    "train({'rotations': [0, 90, 180, 270], 'clusters': 4, 'samples': 100}, 123)"
   ]
  },
  {
   "cell_type": "markdown",
   "id": "6e7d83d6",
   "metadata": {},
   "source": [
    "# Label swaps\n",
    "### 2 clusters"
   ]
  },
  {
   "cell_type": "code",
   "execution_count": null,
   "id": "f159c79a",
   "metadata": {},
   "outputs": [],
   "source": [
    "train({'label_swaps': [[], [[0, 2]]]}, 123)"
   ]
  },
  {
   "cell_type": "code",
   "execution_count": null,
   "id": "d45dc248",
   "metadata": {},
   "outputs": [],
   "source": [
    "train({'label_swaps': [[], [[0, 2]]], 'samples': 100}, 123)"
   ]
  },
  {
   "cell_type": "markdown",
   "id": "78c68a82",
   "metadata": {},
   "source": [
    "#### 2 swaps"
   ]
  },
  {
   "cell_type": "code",
   "execution_count": null,
   "id": "d0574e02",
   "metadata": {},
   "outputs": [],
   "source": [
    "# train({'label_swaps': [[], [[1, 9], [3, 5]]]}, 123)"
   ]
  },
  {
   "cell_type": "code",
   "execution_count": null,
   "id": "11461b34",
   "metadata": {},
   "outputs": [],
   "source": [
    "# train({'label_swaps': [[], [[1, 9], [3, 5]]], 'samples': 100}, 123)"
   ]
  },
  {
   "cell_type": "markdown",
   "id": "f77ddb1f",
   "metadata": {},
   "source": [
    "### 4 clusters"
   ]
  },
  {
   "cell_type": "code",
   "execution_count": null,
   "id": "46caee48",
   "metadata": {},
   "outputs": [],
   "source": [
    "train({'label_swaps': [[], [[0, 1]], [[2, 3]], [[4, 5]]], 'clusters': 4}, 123)"
   ]
  },
  {
   "cell_type": "code",
   "execution_count": null,
   "id": "a09bcc08",
   "metadata": {},
   "outputs": [],
   "source": [
    "train({'label_swaps': [[], [[0, 1]], [[2, 3]], [[4, 5]]], 'clusters': 4, 'samples': 100}, 123)"
   ]
  },
  {
   "cell_type": "markdown",
   "id": "af5c7d5a",
   "metadata": {},
   "source": [
    "#### 2 swaps"
   ]
  },
  {
   "cell_type": "code",
   "execution_count": null,
   "id": "a9fc1d64",
   "metadata": {},
   "outputs": [],
   "source": [
    "# train({'label_swaps': [[], [[0, 1], [8, 9]], [[2, 3], [6, 7]], [[4, 5], [0, 9]]], 'clusters': 4}, 123)"
   ]
  },
  {
   "cell_type": "code",
   "execution_count": null,
   "id": "67fccc61",
   "metadata": {},
   "outputs": [],
   "source": [
    "# train({'label_swaps': [[], [[0, 1], [8, 9]], [[2, 3], [6, 7]], [[4, 5], [0, 9]]], 'clusters': 4, 'samples': 100}, 123)"
   ]
  },
  {
   "cell_type": "markdown",
   "id": "04994723",
   "metadata": {},
   "source": [
    "# Label partitions\n",
    "### 2 clusters"
   ]
  },
  {
   "cell_type": "code",
   "execution_count": null,
   "id": "86dcd128",
   "metadata": {},
   "outputs": [],
   "source": [
    "train({'label_partitions': [[0, 1, 8, 9], [2, 3, 4, 5, 6, 7]]}, 123)"
   ]
  },
  {
   "cell_type": "code",
   "execution_count": null,
   "id": "ee714b40",
   "metadata": {},
   "outputs": [],
   "source": [
    "train({'label_partitions': [[0, 1, 8, 9], [2, 3, 4, 5, 6, 7]], 'samples': 100}, 123)"
   ]
  },
  {
   "cell_type": "markdown",
   "id": "3c50951f",
   "metadata": {},
   "source": [
    "### 5 clusters"
   ]
  },
  {
   "cell_type": "code",
   "execution_count": null,
   "id": "1f355d94",
   "metadata": {},
   "outputs": [],
   "source": [
    "train({'mode': 'pathological non-IID'}, 123)"
   ]
  },
  {
   "cell_type": "code",
   "execution_count": null,
   "id": "927e149e",
   "metadata": {},
   "outputs": [],
   "source": [
    "train({'mode': 'pathological non-IID', 'samples': 100}, 123)"
   ]
  },
  {
   "cell_type": "code",
   "execution_count": null,
   "id": "9c23d687",
   "metadata": {},
   "outputs": [],
   "source": [
    "train({'mode': 'practical non-IID'}, 123)"
   ]
  },
  {
   "cell_type": "code",
   "execution_count": null,
   "id": "a9fa469c",
   "metadata": {},
   "outputs": [],
   "source": [
    "train({'mode': 'practical non-IID', 'samples': 100}, 123)"
   ]
  },
  {
   "cell_type": "code",
   "execution_count": null,
   "id": "3b1c86c4",
   "metadata": {},
   "outputs": [],
   "source": []
  }
 ],
 "metadata": {
  "kernelspec": {
   "display_name": "Python [conda env:p2p_bn]",
   "language": "python",
   "name": "conda-env-p2p_bn-py"
  },
  "language_info": {
   "codemirror_mode": {
    "name": "ipython",
    "version": 3
   },
   "file_extension": ".py",
   "mimetype": "text/x-python",
   "name": "python",
   "nbconvert_exporter": "python",
   "pygments_lexer": "ipython3",
   "version": "3.8.12"
  }
 },
 "nbformat": 4,
 "nbformat_minor": 5
}
