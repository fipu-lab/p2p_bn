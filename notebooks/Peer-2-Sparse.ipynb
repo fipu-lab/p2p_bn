{
 "cells": [
  {
   "cell_type": "code",
   "execution_count": null,
   "id": "dd8bd2ba",
   "metadata": {},
   "outputs": [],
   "source": [
    "cd .."
   ]
  },
  {
   "cell_type": "code",
   "execution_count": null,
   "id": "6f3c1ff4",
   "metadata": {},
   "outputs": [],
   "source": [
    "def train(data_pars, seed, device='GPU:0'):\n",
    "    from environ import set_visible_devices\n",
    "    set_visible_devices(device)\n",
    "    from p2p.train import do_train\n",
    "    from p2p.agents import GossipPullAgent\n",
    "    from data.cifar10 import clients_data\n",
    "    from models.cifar10 import model\n",
    "    \n",
    "    a_pars = {\"agents_data\": clients_data, \"num_clients\": 100, \"batch_size\": 32}\n",
    "    a_pars.update(data_pars)\n",
    "    do_train(agent_pars={\"agent_class\": GossipPullAgent, 'use_tf_function': False},\n",
    "             agent_data_pars=a_pars,\n",
    "             model_pars={\"model_mod\": model, 'model_v': 0, 'lr': 0.001},\n",
    "             graph_pars={'graph_type': 'sparse', 'num_neighbors': 3, 'directed': True},\n",
    "             sim_pars={'epochs': 1_000 if 'samples' in data_pars else 500, \n",
    "                       'seed': seed, 'print_args': {'group_by_dataset': True}})"
   ]
  },
  {
   "cell_type": "markdown",
   "id": "2ce535fd",
   "metadata": {},
   "source": [
    "# Rotations\n",
    "### 2 clusters"
   ]
  },
  {
   "cell_type": "code",
   "execution_count": null,
   "id": "b57efae5",
   "metadata": {},
   "outputs": [],
   "source": [
    "train({'rotations': [0, 180]}, 123)"
   ]
  },
  {
   "cell_type": "code",
   "execution_count": null,
   "id": "5f922daa",
   "metadata": {},
   "outputs": [],
   "source": [
    "train({'rotations': [0, 180], 'samples': 100}, 123)"
   ]
  },
  {
   "cell_type": "markdown",
   "id": "b2ec2a02",
   "metadata": {},
   "source": [
    "### 4 clusters"
   ]
  },
  {
   "cell_type": "code",
   "execution_count": null,
   "id": "f28c44aa",
   "metadata": {},
   "outputs": [],
   "source": [
    "train({'rotations': [0, 90, 180, 270], 'clusters': 4}, 123)"
   ]
  },
  {
   "cell_type": "code",
   "execution_count": null,
   "id": "76e11fdc",
   "metadata": {},
   "outputs": [],
   "source": [
    "train({'rotations': [0, 90, 180, 270], 'clusters': 4, 'samples': 100}, 123)"
   ]
  },
  {
   "cell_type": "markdown",
   "id": "c1d897d0",
   "metadata": {},
   "source": [
    "# Label swaps\n",
    "### 2 clusters"
   ]
  },
  {
   "cell_type": "code",
   "execution_count": null,
   "id": "e896cf7f",
   "metadata": {},
   "outputs": [],
   "source": [
    "train({'label_swaps': [[], [[0, 2]]]}, 123)"
   ]
  },
  {
   "cell_type": "code",
   "execution_count": null,
   "id": "da59f4b7",
   "metadata": {},
   "outputs": [],
   "source": [
    "train({'label_swaps': [[], [[0, 2]]], 'samples': 100}, 123)"
   ]
  },
  {
   "cell_type": "markdown",
   "id": "cd879efc",
   "metadata": {},
   "source": [
    "#### 2 swaps"
   ]
  },
  {
   "cell_type": "code",
   "execution_count": null,
   "id": "d0574e02",
   "metadata": {},
   "outputs": [],
   "source": [
    "# train({'label_swaps': [[], [[1, 9], [3, 5]]]}, 123)"
   ]
  },
  {
   "cell_type": "code",
   "execution_count": null,
   "id": "f94be431",
   "metadata": {},
   "outputs": [],
   "source": [
    "# train({'label_swaps': [[], [[1, 9], [3, 5]]], 'samples': 100}, 123)"
   ]
  },
  {
   "cell_type": "markdown",
   "id": "f77ddb1f",
   "metadata": {},
   "source": [
    "### 4 clusters"
   ]
  },
  {
   "cell_type": "code",
   "execution_count": null,
   "id": "6e88bae2",
   "metadata": {},
   "outputs": [],
   "source": [
    "train({'label_swaps': [[], [[0, 1]], [[2, 3]], [[4, 5]]], 'clusters': 4}, 123)"
   ]
  },
  {
   "cell_type": "code",
   "execution_count": null,
   "id": "893430b0",
   "metadata": {},
   "outputs": [],
   "source": [
    "train({'label_swaps': [[], [[0, 1]], [[2, 3]], [[4, 5]]], 'clusters': 4, 'samples': 100}, 123)"
   ]
  },
  {
   "cell_type": "markdown",
   "id": "e4105f92",
   "metadata": {},
   "source": [
    "#### 2 swaps"
   ]
  },
  {
   "cell_type": "code",
   "execution_count": null,
   "id": "13be3169",
   "metadata": {},
   "outputs": [],
   "source": [
    "# train({'label_swaps': [[], [[0, 1], [8, 9]], [[2, 3], [6, 7]], [[4, 5], [0, 9]]], 'clusters': 4}, 123)"
   ]
  },
  {
   "cell_type": "code",
   "execution_count": null,
   "id": "c510a651",
   "metadata": {},
   "outputs": [],
   "source": [
    "# train({'label_swaps': [[], [[0, 1], [8, 9]], [[2, 3], [6, 7]], [[4, 5], [0, 9]]], 'clusters': 4, 'samples': 100}, 123)"
   ]
  },
  {
   "cell_type": "markdown",
   "id": "eb2cbcff",
   "metadata": {},
   "source": [
    "# Label partitions\n",
    "### 2 clusters"
   ]
  },
  {
   "cell_type": "code",
   "execution_count": null,
   "id": "a1abdd21",
   "metadata": {},
   "outputs": [],
   "source": [
    "train({'label_partitions': [[0, 1, 8, 9], [2, 3, 4, 5, 6, 7]]}, 123)"
   ]
  },
  {
   "cell_type": "code",
   "execution_count": null,
   "id": "360417cc",
   "metadata": {},
   "outputs": [],
   "source": [
    "train({'label_partitions': [[0, 1, 8, 9], [2, 3, 4, 5, 6, 7]], 'samples': 100}, 123)"
   ]
  },
  {
   "cell_type": "markdown",
   "id": "d4952cbd",
   "metadata": {},
   "source": [
    "### 5 clusters"
   ]
  },
  {
   "cell_type": "code",
   "execution_count": null,
   "id": "13992473",
   "metadata": {},
   "outputs": [],
   "source": [
    "train({'mode': 'pathological non-IID'}, 123)"
   ]
  },
  {
   "cell_type": "code",
   "execution_count": null,
   "id": "868a7963",
   "metadata": {},
   "outputs": [],
   "source": [
    "train({'mode': 'pathological non-IID', 'samples': 100}, 123)"
   ]
  },
  {
   "cell_type": "code",
   "execution_count": null,
   "id": "f7452f80",
   "metadata": {},
   "outputs": [],
   "source": [
    "train({'mode': 'practical non-IID'}, 123)"
   ]
  },
  {
   "cell_type": "code",
   "execution_count": null,
   "id": "072843c5",
   "metadata": {},
   "outputs": [],
   "source": [
    "train({'mode': 'practical non-IID', 'samples': 100}, 123)"
   ]
  },
  {
   "cell_type": "code",
   "execution_count": null,
   "id": "82817443",
   "metadata": {},
   "outputs": [],
   "source": []
  }
 ],
 "metadata": {
  "kernelspec": {
   "display_name": "Python [conda env:p2p_bn]",
   "language": "python",
   "name": "conda-env-p2p_bn-py"
  },
  "language_info": {
   "codemirror_mode": {
    "name": "ipython",
    "version": 3
   },
   "file_extension": ".py",
   "mimetype": "text/x-python",
   "name": "python",
   "nbconvert_exporter": "python",
   "pygments_lexer": "ipython3",
   "version": "3.8.12"
  }
 },
 "nbformat": 4,
 "nbformat_minor": 5
}
