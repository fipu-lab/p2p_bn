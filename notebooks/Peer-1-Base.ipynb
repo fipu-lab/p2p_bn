{
 "cells": [
  {
   "cell_type": "code",
   "execution_count": null,
   "id": "dd8bd2ba",
   "metadata": {},
   "outputs": [],
   "source": [
    "cd .."
   ]
  },
  {
   "cell_type": "code",
   "execution_count": null,
   "id": "fbe77ce3",
   "metadata": {},
   "outputs": [],
   "source": [
    "def train(data_pars, seed, device='GPU:1'):\n",
    "    from environ import set_visible_devices\n",
    "    set_visible_devices(device)\n",
    "    from p2p.train import do_train\n",
    "    from p2p.agents import GossipPullAgent\n",
    "    from data.cifar10 import clients_data\n",
    "    from models.cifar10 import model\n",
    "    \n",
    "    a_pars = {\"agents_data\": clients_data, \"num_clients\": 100, \"batch_size\": 32}\n",
    "    a_pars.update(data_pars)\n",
    "    do_train(agent_pars={\"agent_class\": GossipPullAgent, 'use_tf_function': False},\n",
    "             agent_data_pars=a_pars,\n",
    "             model_pars={\"model_mod\": model, 'model_v': 0, 'lr': 0.001},\n",
    "             graph_pars={'graph_type': 'sparse_clusters', 'cluster_conns': 0, 'num_neighbors': 3, 'directed': True},\n",
    "             sim_pars={'epochs': 1_000 if 'samples' in data_pars else 500,\n",
    "                       'seed': seed, 'print_args': {'group_by_dataset': True}})"
   ]
  },
  {
   "cell_type": "markdown",
   "id": "0472d8fe",
   "metadata": {},
   "source": [
    "# Rotations\n",
    "### 2 clusters"
   ]
  },
  {
   "cell_type": "code",
   "execution_count": null,
   "id": "e0b0b0e8",
   "metadata": {},
   "outputs": [],
   "source": [
    "train({'rotations': [0, 180]}, 123)"
   ]
  },
  {
   "cell_type": "code",
   "execution_count": null,
   "id": "39bf0a51",
   "metadata": {},
   "outputs": [],
   "source": [
    "train({'rotations': [0, 180], 'samples': 100}, 123)"
   ]
  },
  {
   "cell_type": "markdown",
   "id": "f77ddb1f",
   "metadata": {},
   "source": [
    "### 4 clusters"
   ]
  },
  {
   "cell_type": "code",
   "execution_count": null,
   "id": "3216c8a5",
   "metadata": {},
   "outputs": [],
   "source": [
    "train({'rotations': [0, 90, 180, 270], 'clusters': 4}, 123, device='GPU:0')"
   ]
  },
  {
   "cell_type": "code",
   "execution_count": null,
   "id": "02f159b0",
   "metadata": {},
   "outputs": [],
   "source": [
    "train({'rotations': [0, 90, 180, 270], 'clusters': 4, 'samples': 100}, 123)"
   ]
  },
  {
   "cell_type": "markdown",
   "id": "8b1c8245",
   "metadata": {},
   "source": [
    "# Label swaps\n",
    "### 2 clusters"
   ]
  },
  {
   "cell_type": "code",
   "execution_count": null,
   "id": "d0574e02",
   "metadata": {},
   "outputs": [],
   "source": [
    "train({'label_swaps': [[], [[0, 2]]]}, 123)"
   ]
  },
  {
   "cell_type": "code",
   "execution_count": null,
   "id": "70231f54",
   "metadata": {},
   "outputs": [],
   "source": [
    "train({'label_swaps': [[], [[0, 2]]], 'samples': 100}, 123)"
   ]
  },
  {
   "cell_type": "markdown",
   "id": "fba15e18",
   "metadata": {},
   "source": [
    "#### 2 swaps"
   ]
  },
  {
   "cell_type": "code",
   "execution_count": null,
   "id": "f84b8b7d",
   "metadata": {},
   "outputs": [],
   "source": [
    "# train({'label_swaps': [[], [[1, 9], [3, 5]]]}, 123)"
   ]
  },
  {
   "cell_type": "code",
   "execution_count": null,
   "id": "14a985c6",
   "metadata": {},
   "outputs": [],
   "source": [
    "# train({'label_swaps': [[], [[1, 9], [3, 5]]], 'samples': 100}, 123)"
   ]
  },
  {
   "cell_type": "markdown",
   "id": "8cddf141",
   "metadata": {},
   "source": [
    "### 4 clusters"
   ]
  },
  {
   "cell_type": "code",
   "execution_count": null,
   "id": "264a6392",
   "metadata": {},
   "outputs": [],
   "source": [
    "train({'label_swaps': [[], [[0, 1]], [[2, 3]], [[4, 5]]], 'clusters': 4}, 123)"
   ]
  },
  {
   "cell_type": "code",
   "execution_count": null,
   "id": "3edc5105",
   "metadata": {},
   "outputs": [],
   "source": [
    "train({'label_swaps': [[], [[0, 1]], [[2, 3]], [[4, 5]]], 'clusters': 4, 'samples': 100}, 123)"
   ]
  },
  {
   "cell_type": "markdown",
   "id": "54ce33f0",
   "metadata": {},
   "source": [
    "#### 2 swaps"
   ]
  },
  {
   "cell_type": "code",
   "execution_count": null,
   "id": "1548bd24",
   "metadata": {},
   "outputs": [],
   "source": [
    "# train({'label_swaps': [[], [[0, 1], [8, 9]], [[2, 3], [6, 7]], [[4, 5], [0, 9]]], 'clusters': 4}, 123)"
   ]
  },
  {
   "cell_type": "code",
   "execution_count": null,
   "id": "6b7635f7",
   "metadata": {},
   "outputs": [],
   "source": [
    "# train({'label_swaps': [[], [[0, 1], [8, 9]], [[2, 3], [6, 7]], [[4, 5], [0, 9]]], 'clusters': 4, 'samples': 100}, 123)"
   ]
  },
  {
   "cell_type": "markdown",
   "id": "a0bd2392",
   "metadata": {},
   "source": [
    "# Label partitions\n",
    "### 2 clusters"
   ]
  },
  {
   "cell_type": "code",
   "execution_count": null,
   "id": "6a134ff3",
   "metadata": {},
   "outputs": [],
   "source": [
    "train({'label_partitions': [[0, 1, 8, 9], [2, 3, 4, 5, 6, 7]]}, 123)"
   ]
  },
  {
   "cell_type": "code",
   "execution_count": null,
   "id": "e1ed0e13",
   "metadata": {},
   "outputs": [],
   "source": [
    "train({'label_partitions': [[0, 1, 8, 9], [2, 3, 4, 5, 6, 7]], 'samples': 100}, 123)"
   ]
  },
  {
   "cell_type": "markdown",
   "id": "521df24e",
   "metadata": {},
   "source": [
    "### 5 clusters"
   ]
  },
  {
   "cell_type": "code",
   "execution_count": null,
   "id": "bee37665",
   "metadata": {},
   "outputs": [],
   "source": [
    "train({'mode': 'pathological non-IID'}, 123)"
   ]
  },
  {
   "cell_type": "code",
   "execution_count": null,
   "id": "1ba4d35b",
   "metadata": {},
   "outputs": [],
   "source": [
    "train({'mode': 'pathological non-IID', 'samples': 100}, 123)"
   ]
  },
  {
   "cell_type": "code",
   "execution_count": null,
   "id": "b09a7205",
   "metadata": {},
   "outputs": [],
   "source": [
    "train({'mode': 'practical non-IID'}, 123)"
   ]
  },
  {
   "cell_type": "code",
   "execution_count": null,
   "id": "84dfc1f6",
   "metadata": {},
   "outputs": [],
   "source": [
    "train({'mode': 'practical non-IID', 'samples': 100}, 123)"
   ]
  },
  {
   "cell_type": "code",
   "execution_count": null,
   "id": "38601574",
   "metadata": {},
   "outputs": [],
   "source": []
  }
 ],
 "metadata": {
  "kernelspec": {
   "display_name": "Python [conda env:p2p_bn]",
   "language": "python",
   "name": "conda-env-p2p_bn-py"
  },
  "language_info": {
   "codemirror_mode": {
    "name": "ipython",
    "version": 3
   },
   "file_extension": ".py",
   "mimetype": "text/x-python",
   "name": "python",
   "nbconvert_exporter": "python",
   "pygments_lexer": "ipython3",
   "version": "3.8.12"
  }
 },
 "nbformat": 4,
 "nbformat_minor": 5
}
